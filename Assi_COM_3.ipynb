{
  "nbformat": 4,
  "nbformat_minor": 0,
  "metadata": {
    "colab": {
      "name": "Assi COM 3.ipynb",
      "provenance": [],
      "collapsed_sections": [],
      "authorship_tag": "ABX9TyMMqS9LqfFcwmCSzm6cR6Bs",
      "include_colab_link": true
    },
    "kernelspec": {
      "name": "python3",
      "display_name": "Python 3"
    }
  },
  "cells": [
    {
      "cell_type": "markdown",
      "metadata": {
        "id": "view-in-github",
        "colab_type": "text"
      },
      "source": [
        "<a href=\"https://colab.research.google.com/github/JawadArnob/Compiler-lab1/blob/main/Assi_COM_3.ipynb\" target=\"_parent\"><img src=\"https://colab.research.google.com/assets/colab-badge.svg\" alt=\"Open In Colab\"/></a>"
      ]
    },
    {
      "cell_type": "code",
      "metadata": {
        "colab": {
          "base_uri": "https://localhost:8080/"
        },
        "id": "Ex9odyBFZg-f",
        "outputId": "b1e34407-8e0b-4730-89ce-c194607b7f7b"
      },
      "source": [
        "from google.colab import drive\r\n",
        "drive.mount('/content/gdrive', force_remount=True)"
      ],
      "execution_count": null,
      "outputs": [
        {
          "output_type": "stream",
          "text": [
            "Mounted at /content/gdrive\n"
          ],
          "name": "stdout"
        }
      ]
    },
    {
      "cell_type": "code",
      "metadata": {
        "id": "S67_u4FMEF8E"
      },
      "source": [
        "def infix_to_postfix(Infix):\r\n",
        "    Stack = []\r\n",
        "    Postfix = []\r\n",
        "\r\n",
        "\r\n",
        "    priority = {\r\n",
        "        \"^\": 3,\r\n",
        "        \"*\": 2,\r\n",
        "        \"/\": 2,\r\n",
        "        \"%\": 2,\r\n",
        "        \"+\": 1,\r\n",
        "        \"-\": 1,\r\n",
        "    }\r\n",
        "\r\n",
        " \r\n",
        "    for x in Infix:\r\n",
        "        if x.isalpha() or x.isdigit():\r\n",
        "            Postfix.append(x)  \r\n",
        "        elif x == \"(\":\r\n",
        "            Stack.append(x) \r\n",
        "        elif x == \")\":  \r\n",
        "            while Stack[-1] != \"(\":\r\n",
        "                Postfix.append(Stack.pop()) \r\n",
        "            Stack.pop()\r\n",
        "        else:\r\n",
        "            if len(Stack) == 0:\r\n",
        "                Stack.append(x) \r\n",
        "            else:\r\n",
        "                while (\r\n",
        "                    len(Stack) > 0 and priority[x] <= priority[Stack[-1]]\r\n",
        "                ): \r\n",
        "                    Postfix.append(Stack.pop())  \r\n",
        "                Stack.append(x)  \r\n",
        " \r\n",
        "\r\n",
        " \r\n",
        "    while len(Stack) > 0:  \r\n",
        "        Postfix.append(Stack.pop())  \r\n",
        "\r\n",
        " \r\n",
        "    return \"\".join(Postfix)  \r\n",
        " \r\n",
        " \r\n",
        "def infix_to_prefix(Infix):\r\n",
        "    Infix = list(Infix[::-1])  \r\n",
        " \r\n",
        "    return (infix_to_postfix(\"\".join(Infix)))[\r\n",
        "        ::-1\r\n",
        "    ] \r\n",
        " \r\n",
        " \r\n",
        "def conversion(Infix):\r\n",
        "\r\n",
        "    print(\r\n",
        "        \"Press 1 to convert into Prefix expression\",\r\n",
        "        \"Press 2 to convert into Postfix expression\",\r\n",
        "        sep=\"\\n\",\r\n",
        "    )\r\n",
        "\r\n",
        "    choice = int(input())\r\n",
        "\r\n",
        "    if choice == 1:\r\n",
        "        return infix_to_prefix(Infix)\r\n",
        "\r\n",
        "    elif choice == 2:\r\n",
        "        return infix_to_postfix(Infix)\r\n",
        "\r\n",
        "if __name__ == \"__main__\":\r\n",
        "    while True:\r\n",
        "\r\n",
        "        print(\r\n",
        "            \"Press 1 to take input from console\",\r\n",
        "            \"Press 2 to take input from file(file path needed)\",\r\n",
        "            \"Press 3 to exit program\",\r\n",
        "            sep = \"\\n\",\r\n",
        "        )\r\n",
        "\r\n",
        "        choice = int(input())\r\n",
        "\r\n",
        "        if choice == 1:\r\n",
        "\r\n",
        "            Infix = str(input(\"Enter Infix expression = \"))\r\n",
        "            print(Infix)\r\n",
        "            Infix = \"\".join(Infix.split())  # Remove spaces \r\n",
        "\r\n",
        "            result = conversion(Infix)\r\n",
        "\r\n",
        "            print(\"The resultant expression : \" + result + \"\\n\")\r\n",
        "\r\n",
        "\r\n",
        "        elif choice == 2:\r\n",
        "\r\n",
        "            FileLocation = input(\"Enter the file location: \\n\")\r\n",
        "\r\n",
        "            try:\r\n",
        "                file = open(FileLocation, \"r\")\r\n",
        "\r\n",
        "                Infix = file.readline()\r\n",
        "                Infix = \"\".join(Infix.split())  # Remove spaces \r\n",
        "\r\n",
        "                result = conversion(Infix)\r\n",
        "\r\n",
        "                file.close()\r\n",
        "\r\n",
        "                file = open(FileLocation, \"a\")\r\n",
        "                file.write(\"\\n\" + \"The resultant expression is : \" + result + \"\\n\")\r\n",
        "                file.close()\r\n",
        "\r\n",
        "            except FileNotFoundError as ex:\r\n",
        "                print(\"File not found\")\r\n",
        "\r\n",
        "        \r\n",
        "        else:\r\n",
        "            break"
      ],
      "execution_count": null,
      "outputs": []
    }
  ]
}